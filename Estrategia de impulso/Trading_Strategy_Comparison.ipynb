{
 "cells": [
  {
   "cell_type": "markdown",
   "metadata": {},
   "source": [
    "# Introducción"
   ]
  },
  {
   "cell_type": "markdown",
   "metadata": {},
   "source": [
    "\n",
    "En lo que se refiere a **tipologías de inversión** atendiendo al **criterio temporal** o de duración, podemos diferenciar -esencialmente- dos:\n",
    "\n",
    "* **Buy & Hold**: tal y como su propio nombre indica, se basa en comprar y mantener el activo en el tiempo, aprovechando las bajadas para comprar de nuevo (si así se desea) y vender en un futuro (a **medio-largo plazo**), ya que se espera un aumento en el valor del activo.\n",
    "* **Swing Trading**: consiste en realizar operaciones de compra-venta a **corto-medio plazo**. Cada operación dura entre un día y varias semanas, por lo general.\n",
    "\n",
    "Dentro de este último grupo existen multitud de estrategias, atendiendo a patrones e indicadores sobre los gráficos. No obstante, **nos centraremos en la estrategia de impulso** diseñada en base a los indicadores de las medias móviles.\n",
    "\n",
    "El **objetivo** de este script es calcular los beneficios y la rentabilidad en un determinado activo utilizando ambas estrategias, con el fin de determinar en qué casos resulta más conveniente una u otra. Se tendrán en cuenta las comisiones fijas, variables y porcentuales del broker o exchange, el capital de partida, la cantidad de capital que tras cada operacion se desee ahorrar o guardar y no reinvertir, el margen de error que tendremos por entrar o salir tarde en las operaciones y otros aspectos que se detallarán a continuación. "
   ]
  },
  {
   "cell_type": "markdown",
   "metadata": {},
   "source": [
    "# Preparación"
   ]
  },
  {
   "cell_type": "markdown",
   "metadata": {},
   "source": [
    "## Importación de módulos"
   ]
  },
  {
   "cell_type": "code",
   "execution_count": 1,
   "metadata": {},
   "outputs": [],
   "source": [
    "import pandas as pd\n",
    "import numpy as np\n",
    "import matplotlib.pyplot as plt\n",
    "%matplotlib inline\n",
    "plt.rc(\"figure\", figsize=[16,9])"
   ]
  },
  {
   "cell_type": "markdown",
   "metadata": {},
   "source": [
    "## Datos del análisis"
   ]
  },
  {
   "cell_type": "code",
   "execution_count": 2,
   "metadata": {},
   "outputs": [],
   "source": [
    "###  ARCHIVO  ###\n",
    "csv=\"BTC2.csv\" #Nombre del archivo que contiene los datos de la cotización según Yahoo Finance\n",
    "\n",
    "### CAPITAL Y ACCIONES  ###\n",
    "n_acciones=1  #Número de acciones para operar. Sólo tiene sentido si se aplica una comisión en función del número de acciones\n",
    "equity=100  #Capital de inversión en la divisa que opere el activo\n",
    "divisa=\"€\"  #Indicar la divisa empleada en el activo ($, €, £, ¥)\n",
    "secure_profit=0.00  #Porcentaje del capital que no se reinvierte. P.Ej: 0.05 es un 5% no reinvertido en la siguiente compra\n",
    "\n",
    "### COMISIONES DEL BROKER  ###\n",
    "comision_fija=0.00  #Comisión fija por operación en la divisa correspondiente. P.Ej: 0.2 serían 20 centimos por cada compra o venta\n",
    "comision_por_accion=0.000  #Comisión fija por acción en cada operación en la divisa correspondiente. P.Ej: 0.10 serían 10 céntimos de comisión por cada acción comprada o vendida\n",
    "comision_porcentual=0.005  #Comisión porcentual sobre la acción. P.Ej: 0.01 sería una comisión del 1% sobre el precio de la acción\n",
    "\n",
    "###  DATOS PARA EL ALGORITMO  ###\n",
    "ref_value=\"Mean Value\"  #Valor de referencia de la cotización para el algoritmo y las medias móviles. Puede ser uno de los siguientes: \"Mean Value\", \"Open\", \"High\", \"Low\", \"Close\"\n",
    "p_mmr=3  #Período de la Media Móvil Rápida\n",
    "p_mmi=5  #Período de la Media Móvil Intermedia\n",
    "p_mml=9  #Período de la Media Móvil Lenta\n",
    "margen_error=0.015  # % de rentabilidad que estimamos perder en cada compra o venta por entrar o salir, respectivamente, más tarde de lo adecuado. Se tiene en cuenta porque comprar o vender en el precio exacto es tremendamente improbable. P.Ej: 0.015 sería perder un 1.5% de rentabilidad por entrar tarde en la compra y otro 1,5% por salir tarde en la venta.\n",
    "dias=\"todo\"  #Días, desde hoy hacia atrás, que se desean observar en la gráfica. Si se desea ver todo, escribir: \"todo\""
   ]
  },
  {
   "cell_type": "markdown",
   "metadata": {},
   "source": [
    "## Importación del archivo .csv"
   ]
  },
  {
   "cell_type": "code",
   "execution_count": 3,
   "metadata": {},
   "outputs": [],
   "source": [
    "data_original=pd.read_csv(csv)\n",
    "data=data_original\n",
    "data=data.drop([\"Adj Close\"], axis=1)\n",
    "data=data.dropna(axis=\"rows\", how=\"any\")\n",
    "data[\"Mean Value\"]=(data[\"High\"]+data[\"Low\"])/2"
   ]
  },
  {
   "cell_type": "markdown",
   "metadata": {},
   "source": [
    "## Creación de funciones auxiliares"
   ]
  },
  {
   "cell_type": "code",
   "execution_count": 4,
   "metadata": {},
   "outputs": [],
   "source": [
    "def MME(N,data):\n",
    "    MME=N*[\"NaN\"]\n",
    "    MME.append(np.mean(data[ref_value][0:N-1]))\n",
    "    x=data.shape[0]-N\n",
    "    counter=N\n",
    "    for i in range(x):\n",
    "        MME.append(np.mean(data[ref_value][counter-N:counter]))\n",
    "        counter+=1\n",
    "    return MME"
   ]
  },
  {
   "cell_type": "code",
   "execution_count": 5,
   "metadata": {},
   "outputs": [],
   "source": [
    "def AnadirColumna(lista, nombre_lista, DataFrame):\n",
    "    np.array(lista)\n",
    "    NewCol=pd.DataFrame(lista, columns=[nombre_lista])\n",
    "    DataFrame=pd.concat([DataFrame, NewCol], axis=1)\n",
    "    return DataFrame"
   ]
  },
  {
   "cell_type": "code",
   "execution_count": 6,
   "metadata": {},
   "outputs": [],
   "source": [
    "def winner_operations(lista):\n",
    "    positive=0\n",
    "    for i in range(len(profit_list)):\n",
    "        if profit_list[i]>0:\n",
    "            positive+=1\n",
    "    win_rate=str(int(round(positive/len(profit_list)*100, 0)))+\"%\"\n",
    "    return win_rate"
   ]
  },
  {
   "cell_type": "markdown",
   "metadata": {},
   "source": [
    "# Representación gráfica de la cotización del activo"
   ]
  },
  {
   "cell_type": "markdown",
   "metadata": {},
   "source": [
    "## Cálculo de Medias Móviles"
   ]
  },
  {
   "cell_type": "code",
   "execution_count": 7,
   "metadata": {
    "scrolled": true
   },
   "outputs": [
    {
     "data": {
      "text/html": [
       "<div>\n",
       "<style scoped>\n",
       "    .dataframe tbody tr th:only-of-type {\n",
       "        vertical-align: middle;\n",
       "    }\n",
       "\n",
       "    .dataframe tbody tr th {\n",
       "        vertical-align: top;\n",
       "    }\n",
       "\n",
       "    .dataframe thead th {\n",
       "        text-align: right;\n",
       "    }\n",
       "</style>\n",
       "<table border=\"1\" class=\"dataframe\">\n",
       "  <thead>\n",
       "    <tr style=\"text-align: right;\">\n",
       "      <th></th>\n",
       "      <th>Date</th>\n",
       "      <th>Open</th>\n",
       "      <th>High</th>\n",
       "      <th>Low</th>\n",
       "      <th>Close</th>\n",
       "      <th>Volume</th>\n",
       "      <th>Mean Value</th>\n",
       "      <th>MME_3</th>\n",
       "      <th>MME_5</th>\n",
       "      <th>MME_9</th>\n",
       "    </tr>\n",
       "  </thead>\n",
       "  <tbody>\n",
       "    <tr>\n",
       "      <th>9</th>\n",
       "      <td>2019-01-10</td>\n",
       "      <td>3491.710449</td>\n",
       "      <td>3515.612549</td>\n",
       "      <td>3181.476563</td>\n",
       "      <td>3197.257813</td>\n",
       "      <td>5.974140e+09</td>\n",
       "      <td>3348.544556</td>\n",
       "      <td>3522.56</td>\n",
       "      <td>3465.47</td>\n",
       "      <td>3430.03</td>\n",
       "    </tr>\n",
       "    <tr>\n",
       "      <th>10</th>\n",
       "      <td>2019-01-11</td>\n",
       "      <td>3192.723145</td>\n",
       "      <td>3239.570801</td>\n",
       "      <td>3169.443604</td>\n",
       "      <td>3215.769775</td>\n",
       "      <td>4.830339e+09</td>\n",
       "      <td>3204.507202</td>\n",
       "      <td>3541.16</td>\n",
       "      <td>3498.93</td>\n",
       "      <td>3441.15</td>\n",
       "    </tr>\n",
       "    <tr>\n",
       "      <th>11</th>\n",
       "      <td>2019-01-12</td>\n",
       "      <td>3215.427734</td>\n",
       "      <td>3225.897461</td>\n",
       "      <td>3186.506836</td>\n",
       "      <td>3192.196777</td>\n",
       "      <td>4.165968e+09</td>\n",
       "      <td>3206.202149</td>\n",
       "      <td>3473.58</td>\n",
       "      <td>3489.27</td>\n",
       "      <td>3446.88</td>\n",
       "    </tr>\n",
       "    <tr>\n",
       "      <th>12</th>\n",
       "      <td>2019-01-13</td>\n",
       "      <td>3190.075684</td>\n",
       "      <td>3203.931396</td>\n",
       "      <td>3093.601318</td>\n",
       "      <td>3100.221680</td>\n",
       "      <td>4.084792e+09</td>\n",
       "      <td>3148.766357</td>\n",
       "      <td>3361.06</td>\n",
       "      <td>3435.3</td>\n",
       "      <td>3424.88</td>\n",
       "    </tr>\n",
       "    <tr>\n",
       "      <th>13</th>\n",
       "      <td>2019-01-14</td>\n",
       "      <td>3104.109619</td>\n",
       "      <td>3249.573486</td>\n",
       "      <td>3098.569580</td>\n",
       "      <td>3230.380371</td>\n",
       "      <td>4.926029e+09</td>\n",
       "      <td>3174.071533</td>\n",
       "      <td>3253.08</td>\n",
       "      <td>3366.29</td>\n",
       "      <td>3401.86</td>\n",
       "    </tr>\n",
       "  </tbody>\n",
       "</table>\n",
       "</div>"
      ],
      "text/plain": [
       "          Date         Open         High          Low        Close  \\\n",
       "9   2019-01-10  3491.710449  3515.612549  3181.476563  3197.257813   \n",
       "10  2019-01-11  3192.723145  3239.570801  3169.443604  3215.769775   \n",
       "11  2019-01-12  3215.427734  3225.897461  3186.506836  3192.196777   \n",
       "12  2019-01-13  3190.075684  3203.931396  3093.601318  3100.221680   \n",
       "13  2019-01-14  3104.109619  3249.573486  3098.569580  3230.380371   \n",
       "\n",
       "          Volume   Mean Value    MME_3    MME_5    MME_9  \n",
       "9   5.974140e+09  3348.544556  3522.56  3465.47  3430.03  \n",
       "10  4.830339e+09  3204.507202  3541.16  3498.93  3441.15  \n",
       "11  4.165968e+09  3206.202149  3473.58  3489.27  3446.88  \n",
       "12  4.084792e+09  3148.766357  3361.06   3435.3  3424.88  \n",
       "13  4.926029e+09  3174.071533  3253.08  3366.29  3401.86  "
      ]
     },
     "execution_count": 7,
     "metadata": {},
     "output_type": "execute_result"
    }
   ],
   "source": [
    "Nombre_Medias=[\"MME_%d\" %p_mmr, \"MME_%d\" %p_mmi, \"MME_%d\" %p_mml]\n",
    "MM=[]\n",
    "\n",
    "MM.append(MME(p_mmr,data))\n",
    "MM.append(MME(p_mmi,data))\n",
    "MM.append(MME(p_mml,data))\n",
    "counter=0\n",
    "\n",
    "for i in range(len(Nombre_Medias)):\n",
    "    data=AnadirColumna(MM[counter], Nombre_Medias[counter], data)\n",
    "    counter+=1\n",
    "\n",
    "    data.dropna(axis=0, how=\"any\")\n",
    "data=data[p_mml:-1]\n",
    "data.head()"
   ]
  },
  {
   "cell_type": "markdown",
   "metadata": {},
   "source": [
    "## Gráfica de la cotización con sus respectivas medias"
   ]
  },
  {
   "cell_type": "code",
   "execution_count": 8,
   "metadata": {},
   "outputs": [
    {
     "data": {
      "image/png": "[encoded data removed]",
      "text/plain": [
       "<matplotlib.figure.Figure at 0x1ef5d7ff358>"
      ]
     },
     "metadata": {
      "needs_background": "light"
     },
     "output_type": "display_data"
    }
   ],
   "source": [
    "if dias == \"todo\":\n",
    "    dias = int(data.shape[0]-1)\n",
    "if dias > int(data.shape[0]-1):\n",
    "    dias_deseados=dias\n",
    "    dias = int(data.shape[0]-1)\n",
    "    print(\"No hay datos para %d días. Se muestra el máximo disponible que es de %d\" %(dias_deseados, dias))\n",
    "\n",
    "\n",
    "plt.rc(\"figure\", figsize=[19,7])\n",
    "plt.plot(data[ref_value][-dias:])\n",
    "plt.plot(data[\"MME_%d\" %p_mmr][-dias:])\n",
    "plt.plot(data[\"MME_%d\" %p_mmi][-dias:])\n",
    "plt.plot(data[\"MME_%d\" %p_mml][-dias:])\n",
    "plt.legend((ref_value,\"MME_%d\" %p_mmr,\"MME_%d\" %p_mmi,\"MME_%d\" %p_mml))\n",
    "plt.xlabel(\"Dias\")\n",
    "plt.ylabel(\"Precio\")\n",
    "plt.show()"
   ]
  },
  {
   "cell_type": "markdown",
   "metadata": {},
   "source": [
    "# Análisis de las estrategias"
   ]
  },
  {
   "cell_type": "markdown",
   "metadata": {},
   "source": [
    "## Análisis de la estrategia Buy&Hold"
   ]
  },
  {
   "cell_type": "code",
   "execution_count": 9,
   "metadata": {},
   "outputs": [
    {
     "name": "stdout",
     "output_type": "stream",
     "text": [
      "\n",
      "\n",
      "*********************\n",
      "ESTRATEGIA BUY & HOLD\n",
      "*********************\n",
      "\n",
      "Compra el 2019-01-10 en 3365.29€\n",
      "Venta el 2020-12-12 en 19059.87€. \n",
      "\n",
      "Para un capital de 100€, el beneficio es: 466.37€. Rentabilidad neta del 466.37%\n",
      "\n",
      "\n"
     ]
    }
   ],
   "source": [
    "#DETERMINACIÓN DEL COSTE DE COMPRA Y DE LOS INGRESOS POR VENTA\n",
    "compra=data[ref_value][p_mml] + comision_porcentual * n_acciones * data[ref_value][p_mml] #Coste de compra + comision porcentual\n",
    "venta=data[ref_value][-1:] - comision_porcentual * n_acciones * data[ref_value][-1:] #Ingreso por venta- comision porcentual\n",
    "comision=2*(comision_fija+comision_por_accion*n_acciones) #Calculo de la comision fija y variable por tranasacción\n",
    "\n",
    "#DETERMINACIÓN DE BENEFICIOS Y RENTABILIDADES\n",
    "ebit_integro_BH=venta-compra  #Beneficio antes de comisiones si se comprase el activo entero\n",
    "rent_integra_BH=ebit_integro_BH/compra  #Rentabilidad antes de comisiones si se comprase el activo entero\n",
    "ebit_rel_BH=equity*rent_integra_BH  #Beneficio antes de comisiones teniendo en cuenta el capital empleado, o equity.\n",
    "ebitda_rel_BH=ebit_rel_BH-comision  #Beneficio tras comisiones para el capital empleado\n",
    "rent_neta_BH=ebitda_rel_BH/equity  #Rentabilidad tras comisiones para el capital empleado\n",
    "\n",
    "#IMPRESIÓN DE RESULTADOS\n",
    "print(\"\\n\\n\"+21*\"*\"+\"\\nESTRATEGIA BUY & HOLD\\n\"+21*\"*\"+\"\\n\")\n",
    "print('''Compra el %s en %.2f%s\\nVenta el %s en %.2f%s. \n",
    "\\nPara un capital de %d%s, el beneficio es: %.2f%s. Rentabilidad neta del %.2f%%\\n\\n''' \n",
    "      %(data[\"Date\"][p_mml], compra, divisa, data[\"Date\"][data.shape[0]], venta, divisa,\n",
    "        equity, divisa, ebitda_rel_BH, divisa, rent_neta_BH*100))"
   ]
  },
  {
   "cell_type": "markdown",
   "metadata": {},
   "source": [
    "## Análisis de la estrategia de Impulso o de las 3 Medias Móviles (3MM)"
   ]
  },
  {
   "cell_type": "markdown",
   "metadata": {},
   "source": [
    "### Preparación de los datos"
   ]
  },
  {
   "cell_type": "markdown",
   "metadata": {},
   "source": [
    "\n",
    "+ Procederemos a crear una copia del DataFrame para no dañar el original en caso de errores.\n",
    "+ Eliminaremos aquellos datos de cotización que estén bajo las medias móviles creadas, ya que son señal de espera, es decir, de no invertir.\n",
    "    + Por tanto, nos quedaremos con trozos del DataFrame en los que sí se estará invirtiendo. El primer precio de cada trozo es la señal de compra. El último precio, la señal de salida o venta.\n",
    "+ Generaremos listas auxiliares con datos del DataFrame para simplificar la notación"
   ]
  },
  {
   "cell_type": "code",
   "execution_count": 10,
   "metadata": {},
   "outputs": [],
   "source": [
    "#Copia del DataFrame\n",
    "df=data\n",
    "\n",
    "#Eliminación de datos que estén bajo las medias\n",
    "counter=0\n",
    "for i in range(df.shape[0]):  \n",
    "    if ((df[\"MME_%d\" %p_mml][counter+p_mml] \n",
    "         or df[\"MME_%d\" %p_mmr][counter+p_mml] \n",
    "         or df[\"MME_%d\" %p_mmi][counter+p_mml]) > df[ref_value][counter+p_mml]):\n",
    "        df=df.drop([i+p_mml], axis=0)\n",
    "    counter+=1\n",
    "\n",
    "#Generación de listas auxiliares\n",
    "dias=df.index.tolist()\n",
    "precios=df[ref_value].tolist()\n",
    "fechas=df[\"Date\"].tolist()"
   ]
  },
  {
   "cell_type": "markdown",
   "metadata": {},
   "source": [
    "### Construcción del algoritmo que detecta cuándo comprar y cuando vender, cómo se indicó anteriormente"
   ]
  },
  {
   "cell_type": "markdown",
   "metadata": {},
   "source": [
    "#### Creación de variables auxiliares para el bucle"
   ]
  },
  {
   "cell_type": "code",
   "execution_count": 11,
   "metadata": {},
   "outputs": [],
   "source": [
    "equity_orig=equity\n",
    "compras=0\n",
    "ventas=0\n",
    "n=p_mml+2\n",
    "operaciones=0\n",
    "profit_list=[]\n",
    "transaction_profit=0\n",
    "ahorros=0\n",
    "lenght=df.shape[0]\n",
    "entrada=0\n",
    "salida=0"
   ]
  },
  {
   "cell_type": "markdown",
   "metadata": {},
   "source": [
    "#### Bucle a través de todos los datos para encontrar las fechas y precios de compra/venta"
   ]
  },
  {
   "cell_type": "markdown",
   "metadata": {},
   "source": [
    "\n",
    "Como se eliminaron las cotizaciones situadas bajo las medias, ahora el DataSet contiene fragmentos de tiempo, donde el primer día indica compra y el último, venta. Restando el valor de compra al de venta, y teniendo en cuenta comisiones, conocemos el beneficio de la operación, que puede ser positivo o negativo, si se produjo una falsa señal."
   ]
  },
  {
   "cell_type": "code",
   "execution_count": 12,
   "metadata": {},
   "outputs": [
    {
     "name": "stdout",
     "output_type": "stream",
     "text": [
      "*********************\n",
      "ESTRATEGIA DE IMPULSO\n",
      "*********************\n",
      "\n",
      "Operación 0:\n",
      "Capital inicial= 100€\n",
      "El día 2019-03-06 inicia una compra a 3448.06€\n",
      "El día 2019-03-24 se cierra una venta a 3560.40€\n",
      "\n",
      "Operación 1:\n",
      "Capital total= 100.76€    Capital para la próxima inversión: 100.76€\n",
      "El día 2019-03-27 inicia una compra a 3581.65€\n",
      "El día 2019-04-11 se cierra una venta a 4600.29€\n",
      "\n",
      "Operación 2:\n",
      "Capital total= 126.90€    Capital para la próxima inversión: 126.90€\n",
      "El día 2019-04-17 inicia una compra a 4643.13€\n",
      "El día 2019-04-26 se cierra una venta a 4741.53€\n",
      "\n",
      "Operación 3:\n",
      "Capital total= 126.41€    Capital para la próxima inversión: 126.41€\n",
      "El día 2019-05-01 inicia una compra a 4792.39€\n",
      "El día 2019-05-22 se cierra una venta a 6996.21€\n",
      "\n",
      "Operación 4:\n",
      "Capital total= 181.38€    Capital para la próxima inversión: 181.38€\n",
      "El día 2019-05-24 inicia una compra a 7131.76€\n",
      "El día 2019-06-03 se cierra una venta a 7561.01€\n",
      "\n",
      "Operación 5:\n",
      "Capital total= 187.77€    Capital para la próxima inversión: 187.77€\n",
      "El día 2019-06-13 inicia una compra a 7264.54€\n",
      "El día 2019-06-30 se cierra una venta a 10111.95€\n",
      "\n",
      "Operación 6:\n",
      "Capital total= 256.67€    Capital para la próxima inversión: 256.67€\n",
      "El día 2019-07-04 inicia una compra a 10265.74€\n",
      "El día 2019-07-04 se cierra una venta a 10265.74€\n",
      "\n",
      "Operación 7:\n",
      "Capital total= 250.25€    Capital para la próxima inversión: 250.25€\n",
      "El día 2019-07-07 inicia una compra a 10103.72€\n",
      "El día 2019-07-11 se cierra una venta a 10351.51€\n",
      "\n",
      "Operación 8:\n",
      "Capital total= 250.13€    Capital para la próxima inversión: 250.13€\n",
      "El día 2019-08-01 inicia una compra a 9217.37€\n",
      "El día 2019-08-12 se cierra una venta a 10202.72€\n",
      "\n",
      "Operación 9:\n",
      "Capital total= 270.62€    Capital para la próxima inversión: 270.62€\n",
      "El día 2019-08-20 inicia una compra a 9726.11€\n",
      "El día 2019-08-20 se cierra una venta a 9726.11€\n",
      "\n",
      "Operación 10:\n",
      "Capital total= 263.85€    Capital para la próxima inversión: 263.85€\n",
      "El día 2019-09-02 inicia una compra a 9173.79€\n",
      "El día 2019-09-09 se cierra una venta a 9339.19€\n",
      "\n",
      "Operación 11:\n",
      "Capital total= 262.01€    Capital para la próxima inversión: 262.01€\n",
      "El día 2019-10-08 inicia una compra a 7536.14€\n",
      "El día 2019-10-14 se cierra una venta a 7561.35€\n",
      "\n",
      "Operación 12:\n",
      "Capital total= 256.34€    Capital para la próxima inversión: 256.34€\n",
      "El día 2019-10-25 inicia una compra a 7297.46€\n",
      "El día 2019-11-07 se cierra una venta a 8401.19€\n",
      "\n",
      "Operación 13:\n",
      "Capital total= 288.70€    Capital para la próxima inversión: 288.70€\n",
      "El día 2019-11-29 inicia una compra a 6916.58€\n",
      "El día 2019-12-01 se cierra una venta a 6744.38€\n",
      "\n",
      "Operación 14:\n",
      "Capital total= 274.30€    Capital para la próxima inversión: 274.30€\n",
      "El día 2019-12-05 inicia una compra a 6742.99€\n",
      "El día 2019-12-09 se cierra una venta a 6771.38€\n",
      "\n",
      "Operación 15:\n",
      "Capital total= 268.60€    Capital para la próxima inversión: 268.60€\n",
      "El día 2019-12-19 inicia una compra a 6467.38€\n",
      "El día 2019-12-29 se cierra una venta a 6615.02€\n",
      "\n",
      "Operación 16:\n",
      "Capital total= 268.01€    Capital para la próxima inversión: 268.01€\n",
      "El día 2020-01-04 inicia una compra a 6602.85€\n",
      "El día 2020-01-22 se cierra una venta a 7853.71€\n",
      "\n",
      "Operación 17:\n",
      "Capital total= 312.08€    Capital para la próxima inversión: 312.08€\n",
      "El día 2020-01-27 inicia una compra a 7974.51€\n",
      "El día 2020-02-15 se cierra una venta a 9332.60€\n",
      "\n",
      "Operación 18:\n",
      "Capital total= 357.43€    Capital para la próxima inversión: 357.43€\n",
      "El día 2020-03-06 inicia una compra a 8067.75€\n",
      "El día 2020-03-07 se cierra una venta a 7998.03€\n",
      "\n",
      "Operación 19:\n",
      "Capital total= 345.41€    Capital para la próxima inversión: 345.41€\n",
      "El día 2020-03-20 inicia una compra a 5937.81€\n",
      "El día 2020-03-27 se cierra una venta a 5965.39€\n",
      "\n",
      "Operación 20:\n",
      "Capital total= 338.38€    Capital para la próxima inversión: 338.38€\n",
      "El día 2020-03-31 inicia una compra a 5863.07€\n",
      "El día 2020-04-10 se cierra una venta a 6449.43€\n",
      "\n",
      "Operación 21:\n",
      "Capital total= 363.76€    Capital para la próxima inversión: 363.76€\n",
      "El día 2020-04-17 inicia una compra a 6534.16€\n",
      "El día 2020-04-20 se cierra una venta a 6479.49€\n",
      "\n",
      "Operación 22:\n",
      "Capital total= 351.62€    Capital para la próxima inversión: 351.62€\n",
      "El día 2020-04-22 inicia una compra a 6467.78€\n",
      "El día 2020-05-09 se cierra una venta a 8884.97€\n",
      "\n",
      "Operación 23:\n",
      "Capital total= 474.24€    Capital para la próxima inversión: 474.24€\n",
      "El día 2020-05-14 inicia una compra a 8811.00€\n",
      "El día 2020-05-20 se cierra una venta a 8782.91€\n",
      "\n",
      "Operación 24:\n",
      "Capital total= 460.87€    Capital para la próxima inversión: 460.87€\n",
      "El día 2020-05-29 inicia una compra a 8535.99€\n",
      "El día 2020-06-06 se cierra una venta a 8574.79€\n",
      "\n",
      "Operación 25:\n",
      "Capital total= 451.44€    Capital para la próxima inversión: 451.44€\n",
      "El día 2020-06-09 inicia una compra a 8636.89€\n",
      "El día 2020-06-10 se cierra una venta a 8631.81€\n",
      "\n",
      "Operación 26:\n",
      "Capital total= 439.89€    Capital para la próxima inversión: 439.89€\n",
      "El día 2020-06-21 inicia una compra a 8366.14€\n",
      "El día 2020-06-24 se cierra una venta a 8390.64€\n",
      "\n",
      "Operación 27:\n",
      "Capital total= 430.18€    Capital para la próxima inversión: 430.18€\n",
      "El día 2020-07-06 inicia una compra a 8166.05€\n",
      "El día 2020-07-09 se cierra una venta a 8250.98€\n",
      "\n",
      "Operación 28:\n",
      "Capital total= 423.90€    Capital para la próxima inversión: 423.90€\n",
      "El día 2020-07-11 inicia una compra a 8182.32€\n",
      "El día 2020-07-12 se cierra una venta a 8192.86€\n",
      "\n",
      "Operación 29:\n",
      "Capital total= 413.85€    Capital para la próxima inversión: 413.85€\n",
      "El día 2020-07-21 inicia una compra a 8104.76€\n",
      "El día 2020-08-11 se cierra una venta a 9850.46€\n",
      "\n",
      "Operación 30:\n",
      "Capital total= 492.65€    Capital para la próxima inversión: 492.65€\n",
      "El día 2020-08-14 inicia una compra a 10071.29€\n",
      "El día 2020-08-19 se cierra una venta a 9966.10€\n",
      "\n",
      "Operación 31:\n",
      "Capital total= 475.19€    Capital para la próxima inversión: 475.19€\n",
      "El día 2020-08-31 inicia una compra a 9796.29€\n",
      "El día 2020-09-02 se cierra una venta a 9786.80€\n",
      "\n",
      "Operación 32:\n",
      "Capital total= 462.85€    Capital para la próxima inversión: 462.85€\n",
      "El día 2020-09-13 inicia una compra a 8779.49€\n",
      "El día 2020-09-21 se cierra una venta a 9051.30€\n",
      "\n",
      "Operación 33:\n",
      "Capital total= 465.60€    Capital para la próxima inversión: 465.60€\n",
      "El día 2020-09-25 inicia una compra a 9177.31€\n",
      "El día 2020-10-01 se cierra una venta a 9116.88€\n",
      "\n",
      "Operación 34:\n",
      "Capital total= 450.90€    Capital para la próxima inversión: 450.90€\n",
      "El día 2020-10-08 inicia una compra a 9146.41€\n",
      "El día 2020-11-25 se cierra una venta a 15943.25€\n",
      "\n",
      "Operación 35:\n",
      "Capital total= 774.69€    Capital para la próxima inversión: 774.69€\n",
      "El día 2020-11-30 inicia una compra a 15822.54€\n",
      "El día 2020-12-07 se cierra una venta a 15816.30€\n",
      "\n",
      "Operación 36:\n",
      "Capital total= 755.02€    Capital para la próxima inversión: 755.02€\n",
      "El día 2020-12-13 inicia una compra a 15735.28€\n",
      "Ahorros que se han ido retirando y no reinvirtiendo: 0.00€\n"
     ]
    }
   ],
   "source": [
    "#TÍTULO de los resultados de la estrategia\n",
    "print(21*\"*\"+\"\\nESTRATEGIA DE IMPULSO\\n\"+21*\"*\"+\"\\n\")\n",
    "\n",
    "\n",
    "while n < (lenght-1):\n",
    "    \n",
    "#Indicación del capital inicial en la primera operación\n",
    "    if operaciones==1:\n",
    "        print(\"Operación 0:\")\n",
    "        print(\"Capital inicial= \"+str(equity)+divisa)\n",
    "\n",
    "\n",
    "# SEÑAL DE COMPRA: cuando el \"día n\" no es el día siguiente al \"día n-1\", \n",
    "# significa que, entre ambos, se han borrado días porque sus precios estaban\n",
    "# bajo las medias. Por lo tanto, el \"día n\" es el primero por encima de las medias\n",
    "# Es decir, se trata de una señal de compra\n",
    "\n",
    "    if dias[n] != (dias[n-1]+1):\n",
    "        print(\"El día %s inicia una compra a %.2f%s\" %(fechas[n], precios[n], divisa))\n",
    "        compras += (precios[n] + comision_porcentual * n_acciones * precios[n]) #Suma de los costes de compras\n",
    "        operaciones += 1\n",
    "        ultimo=\"compra\"\n",
    "        if operaciones==1:\n",
    "            primera=\"compra\"\n",
    "            valor=precios[n]\n",
    "            primera_compra=valor\n",
    "        if operaciones==2:\n",
    "            primera_compra=valor\n",
    "        entrada=precios[n]\n",
    "\n",
    "        \n",
    "# SEÑAL DE VENTA: cuando el \"día n\" no es el día anterior al \"día n+1\", \n",
    "# significa que, entre ambos, se han borrado días porque sus precios estaban\n",
    "# bajo las medias. Por lo tanto, el \"día n\" es el último por encima de las medias\n",
    "# Es decir, se trata de una señal de venta\n",
    "\n",
    "    if dias[n] != (dias[n+1]-1):\n",
    "        if operaciones!=0:\n",
    "            print(\"El día %s se cierra una venta a %.2f%s\\n\" %(fechas[n], precios[n], divisa))\n",
    "        ventas += (precios[n] - comision_porcentual * n_acciones * precios[n])\n",
    "        operaciones += 1\n",
    "        ultimo=\"venta\"\n",
    "        if operaciones==1:\n",
    "            primera=\"venta\"\n",
    "            valor=precios[n]\n",
    "        salida=precios[n]\n",
    "\n",
    "\n",
    "# CÁLCULO DEL BENEFICIO Y DEL NUEVO CAPITAL PARA LA SIGUIENTE OPERACIÓN\n",
    "        if entrada!=0:\n",
    "            transaction_profit= (((salida/entrada)-margen_error)*equity-equity) - 2*(comision_porcentual * equity + (comision_fija+comision_por_accion*n_acciones))\n",
    "            profit_list.append(transaction_profit)\n",
    "            equity +=transaction_profit\n",
    "            equity = equity * (1-secure_profit)\n",
    "            ahorros += equity * secure_profit\n",
    "\n",
    "# Impresión de operaciones            \n",
    "        if operaciones>1:\n",
    "            movimiento=operaciones//2\n",
    "            print(\"Operación %d:\" %movimiento)\n",
    "            print(\"Capital total= %.2f%s    Capital para la próxima inversión: %.2f%s\" %(equity/(1-secure_profit), divisa,\n",
    "                                                                                         equity, divisa))\n",
    "    n+=1\n",
    "print(\"Ahorros que se han ido retirando y no reinvirtiendo: %.2f%s\" %(ahorros, divisa)) #Este es el capital no reinvertido fruto de apartar un porcentaje tras cada venta, si se desea\n",
    "rent_IM=(ventas-compras)/primera_compra\n",
    "ganadoras = winner_operations(profit_list) # % de Operaciones ganadoras"
   ]
  },
  {
   "cell_type": "markdown",
   "metadata": {},
   "source": [
    "#### Gráfica del beneficio en cada operación"
   ]
  },
  {
   "cell_type": "code",
   "execution_count": 13,
   "metadata": {},
   "outputs": [
    {
     "name": "stdout",
     "output_type": "stream",
     "text": [
      "\n",
      "\n",
      "***********************\n",
      "BENEFICIO POR OPERACIÓN\n",
      "***********************\n",
      "\n"
     ]
    },
    {
     "data": {
      "image/png": "[encoded data removed]",
      "text/plain": [
       "<matplotlib.figure.Figure at 0x1ef5d7f6898>"
      ]
     },
     "metadata": {
      "needs_background": "light"
     },
     "output_type": "display_data"
    },
    {
     "name": "stdout",
     "output_type": "stream",
     "text": [
      "OPERACIONES GANADORAS: 39%\n"
     ]
    }
   ],
   "source": [
    "# TÍTULO\n",
    "print(\"\\n\\n\"+23*\"*\"+\"\\nBENEFICIO POR OPERACIÓN\\n\"+23*\"*\"+\"\\n\")\n",
    "\n",
    "# GRÁFICO\n",
    "plt.rc(\"figure\", figsize=[19,7])\n",
    "pf=pd.DataFrame({ \"Transaccion\":list(range(1,len(profit_list)+1)),\"Beneficio\":profit_list})\n",
    "#pf = pf.drop(pf[pf[\"Beneficio\"]==0].index)  #Eliminación de las transacciones de beneficio 0\n",
    "pf['Beneficio'].plot(kind='bar', color=(pf['Beneficio'] > 0).map({True: 'g',False: 'r'}))\n",
    "plt.show()\n",
    "\n",
    "print(\"OPERACIONES GANADORAS: \"+ ganadoras)"
   ]
  },
  {
   "cell_type": "markdown",
   "metadata": {},
   "source": [
    "#### Cálculo de beneficios, rentabilidades con comisiones fija y variables"
   ]
  },
  {
   "cell_type": "markdown",
   "metadata": {},
   "source": [
    "\n",
    "Para que los resultados sean coherentes se hace el siguiente ajuste:\n",
    "\n",
    "+ Si la primera operación realizada fue una venta sin compra previa, esta se elimina, dado que para poder vender es necesario comprar (operando en largo)\n",
    "+ Si la última operación es una compra, se considera también una venta a día de hoy, para poder tener en cuenta los beneficios obtenidos en esa operación que quedó abierta (sean positivos o negativos)"
   ]
  },
  {
   "cell_type": "code",
   "execution_count": 14,
   "metadata": {},
   "outputs": [],
   "source": [
    "if ultimo==\"compra\":\n",
    "    ventas += float(df[ref_value][-1:])\n",
    "if primera==\"venta\":\n",
    "    ventas -=valor"
   ]
  },
  {
   "cell_type": "code",
   "execution_count": 15,
   "metadata": {},
   "outputs": [
    {
     "name": "stdout",
     "output_type": "stream",
     "text": [
      "Beneficio para 100€: 655.02€\n",
      "Rentabilidad neta: 655.02%\n",
      "Se ha asegurado un capital de 0.00€ al retirar un 0.00% tras cada operación realizada\n"
     ]
    }
   ],
   "source": [
    "ebit_integro_IM=ventas-compras\n",
    "rent_integra_IM=rent_IM #ebit_integro_IM/valor\n",
    "ebit_rel_IM=equity*rent_integra_IM\n",
    "ebitda_rel_IM=ebit_rel_IM-operaciones*(comision_fija+comision_por_accion*n_acciones)\n",
    "rent_neta_IM=(sum(profit_list)+ahorros)/equity_orig\n",
    "print(\"Beneficio para %d%s: %.2f%s\\nRentabilidad neta: %.2f%%\" %(equity_orig, divisa,(sum(profit_list)+ahorros),\n",
    "                                                                 divisa,rent_neta_IM*100))\n",
    "print(\"Se ha asegurado un capital de %.2f%s al retirar un %.2f%% tras cada operación realizada\" %(ahorros, divisa,\n",
    "                                                                                                  secure_profit*100))\n"
   ]
  },
  {
   "cell_type": "markdown",
   "metadata": {},
   "source": [
    "# Comparativa de estrategias"
   ]
  },
  {
   "cell_type": "markdown",
   "metadata": {},
   "source": [
    "## Gráfica  comparativa de resultados:  Buy & Hold   VS    3MM"
   ]
  },
  {
   "cell_type": "code",
   "execution_count": 18,
   "metadata": {},
   "outputs": [
    {
     "name": "stdout",
     "output_type": "stream",
     "text": [
      "\n",
      "\n",
      "*************************\n",
      "COMPARACIÓN DE RESULTADOS\n",
      "*************************\n",
      "\n"
     ]
    },
    {
     "data": {
      "image/png": "[encoded data removed]",
      "text/plain": [
       "<matplotlib.figure.Figure at 0x1ef5df46e80>"
      ]
     },
     "metadata": {
      "needs_background": "light"
     },
     "output_type": "display_data"
    }
   ],
   "source": [
    "print(\"\\n\\n\"+25*\"*\"+\"\\nCOMPARACIÓN DE RESULTADOS\\n\"+25*\"*\"+\"\\n\")\n",
    "plt.rc(\"figure\", figsize=[5,3])\n",
    "plt.bar([\"Buy & Hold\",\"Impulso\"] ,[ebitda_rel_BH,sum(profit_list)])\n",
    "plt.xlabel(\"Estrategias\")\n",
    "plt.ylabel(\"Beneficio Neto en %s\" %divisa)\n",
    "plt.title(\"Comparación de estrategias\")\n",
    "plt.show()"
   ]
  },
  {
   "cell_type": "markdown",
   "metadata": {},
   "source": [
    "# Resumen de resultados:"
   ]
  },
  {
   "cell_type": "code",
   "execution_count": 17,
   "metadata": {},
   "outputs": [
    {
     "name": "stdout",
     "output_type": "stream",
     "text": [
      "****************\n",
      "RESUMEN DE DATOS\n",
      "****************\n",
      "\n",
      "Buy&Hold: con 100€, se obtiene un beneficio de 466.37€ en 2 operaciones. Rentabilidad del 466.37%\n",
      "Impulso: con 100€, se obtiene un beneficio de 655.02€ tras 74 operaciones. Rentabilidad del 655.02%\n",
      "DIFERENCIA: 188.65€\n",
      "OPERACIONES GANADORAS CON IMPULSO: 39%\n"
     ]
    }
   ],
   "source": [
    "print(16*\"*\"+\"\\nRESUMEN DE DATOS\\n\"+16*\"*\"+\"\\n\")\n",
    "print('''Buy&Hold: con %d%s, se obtiene un beneficio de %.2f%s en 2 operaciones. Rentabilidad del %.2f%%\n",
    "Impulso: con %d%s, se obtiene un beneficio de %.2f%s tras %d operaciones. Rentabilidad del %.2f%%'''\n",
    "      %(equity_orig, divisa, ebitda_rel_BH, divisa, rent_neta_BH*100, equity_orig, divisa, (sum(profit_list)+ahorros),\n",
    "        divisa, operaciones, rent_neta_IM*100))\n",
    "\n",
    "dif=sum(profit_list)-ebitda_rel_BH\n",
    "print(\"DIFERENCIA: %.2f%s\" %(dif, divisa))\n",
    "print(\"OPERACIONES GANADORAS CON IMPULSO: \"+ ganadoras)"
   ]
  }
 ],
 "metadata": {
  "kernelspec": {
   "display_name": "Python 3",
   "language": "python",
   "name": "python3"
  },
  "language_info": {
   "codemirror_mode": {
    "name": "ipython",
    "version": 3
   },
   "file_extension": ".py",
   "mimetype": "text/x-python",
   "name": "python",
   "nbconvert_exporter": "python",
   "pygments_lexer": "ipython3",
   "version": "3.5.5"
  }
 },
 "nbformat": 4,
 "nbformat_minor": 4
}
